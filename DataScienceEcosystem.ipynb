{
 "cells": [
  {
   "cell_type": "markdown",
   "id": "06d78ce0-a73a-4b38-a331-350429bf217e",
   "metadata": {},
   "source": [
    "# Data Science Tools and Ecosystem"
   ]
  },
  {
   "cell_type": "markdown",
   "id": "951676a4-d2dc-4576-93d6-91a8943b62f4",
   "metadata": {},
   "source": [
    "In this notebook, Data Science Tools and Ecosystem are summarized."
   ]
  },
  {
   "cell_type": "markdown",
   "id": "a8be4bc7-4a7a-4494-b417-92726edafcfc",
   "metadata": {},
   "source": [
    "**Objectives:**\n",
    "* Listing popular languages in Data Science \n",
    "* Create order and Unordered List \n",
    "* Create Tables\n",
    "* Do math"
   ]
  },
  {
   "cell_type": "markdown",
   "id": "68de0535-33f2-4ded-9bcc-380d544f901e",
   "metadata": {},
   "source": [
    "Some of the popular languages that Data Scientists use are: \n",
    "1. Python \n",
    "2. R \n",
    "3. SQL\n",
    "4. Java"
   ]
  },
  {
   "cell_type": "markdown",
   "id": "1f5aeca9-2355-4fd0-9286-499a1af1645b",
   "metadata": {},
   "source": [
    "Some of the commonly used libraries used by Data Scientists include:\n",
    "1. NumPy\n",
    "2. Pandas\n",
    "3. Seaborn\n",
    "4. TensorFlow"
   ]
  },
  {
   "cell_type": "markdown",
   "id": "54d1de14-ee98-4dc0-8946-9cb3b55c5f9b",
   "metadata": {},
   "source": [
    "| Data Science Tools |\n",
    "|--------------------|\n",
    "| Jupyter Notebooks |\n",
    "| RStudio |\n",
    "| Visual Studio Code |"
   ]
  },
  {
   "cell_type": "markdown",
   "id": "f702f8c0-207f-49e2-a8c1-5a950ab75212",
   "metadata": {},
   "source": [
    "### Below are a few examples of evaluating arithmetic expressions in Python"
   ]
  },
  {
   "cell_type": "code",
   "execution_count": 1,
   "id": "52b041f3-4f79-416f-b0fb-230a1efa3a60",
   "metadata": {},
   "outputs": [
    {
     "data": {
      "text/plain": [
       "17"
      ]
     },
     "execution_count": 1,
     "metadata": {},
     "output_type": "execute_result"
    }
   ],
   "source": [
    "#This a simple arithmetic expression to mutiply then add integers\n",
    "(3*4)+5"
   ]
  },
  {
   "cell_type": "code",
   "execution_count": 2,
   "id": "965115c6-c155-48e6-b9c8-ec95c7ad23e6",
   "metadata": {},
   "outputs": [
    {
     "data": {
      "text/plain": [
       "3.3333333333333335"
      ]
     },
     "execution_count": 2,
     "metadata": {},
     "output_type": "execute_result"
    }
   ],
   "source": [
    "# This will convert 200 minutes to hours by diving by 60\n",
    "200/60"
   ]
  },
  {
   "cell_type": "markdown",
   "id": "8eb2cba8-b112-42db-adfb-1b1c99cd3a00",
   "metadata": {},
   "source": [
    "## Author\n",
    "Oscar A Rodriguez"
   ]
  },
  {
   "cell_type": "code",
   "execution_count": null,
   "id": "d7d6e66c-4efc-4522-ae5d-b90d53d7d70b",
   "metadata": {},
   "outputs": [],
   "source": []
  }
 ],
 "metadata": {
  "kernelspec": {
   "display_name": "Python",
   "language": "python",
   "name": "conda-env-python-py"
  },
  "language_info": {
   "codemirror_mode": {
    "name": "ipython",
    "version": 3
   },
   "file_extension": ".py",
   "mimetype": "text/x-python",
   "name": "python",
   "nbconvert_exporter": "python",
   "pygments_lexer": "ipython3",
   "version": "3.7.12"
  }
 },
 "nbformat": 4,
 "nbformat_minor": 5
}
